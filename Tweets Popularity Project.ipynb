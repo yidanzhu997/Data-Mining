{
 "cells": [
  {
   "cell_type": "markdown",
   "metadata": {
    "deletable": false,
    "editable": false,
    "nbgrader": {
     "cell_type": "markdown",
     "checksum": "51f8e6ef3d495fe14a49d0a33627efb5",
     "grade": false,
     "grade_id": "cell-69a4e0e41e5217de",
     "locked": true,
     "schema_version": 3,
     "solution": false,
     "task": false
    }
   },
   "source": [
    "# Homework 2\n",
    "\n",
    "In this homework, we are going to play with Twitter data.\n",
    "\n",
    "The data is represented as rows of of [JSON](https://en.wikipedia.org/wiki/JSON#Example) strings.\n",
    "It consists of tweets, messages, and a small amount of broken data (cannot be parsed as JSON).\n",
    "\n",
    "For this homework, we will only focus on tweets and ignore all other messages.\n",
    "\n",
    "\n",
    "## Tweets\n",
    "\n",
    "A tweet consists of many data fields. You can learn all about them in the Twitter API doc. We are going to briefly introduce only the data fields that will be used in this homework.\n",
    "\n",
    "* `created_at`: Posted time of this tweet (time zone is included)\n",
    "* `id_str`: Tweet ID - we recommend using `id_str` over using `id` as Tweet IDs, becauase `id` is an integer and may bring some overflow problems.\n",
    "* `text`: Tweet content\n",
    "* `user`: A JSON object for information about the author of the tweet\n",
    "    * `id_str`: User ID\n",
    "    * `name`: User name (may contain spaces)\n",
    "    * `screen_name`: User screen name (no spaces)\n",
    "* `retweeted_status`: A JSON object for information about the retweeted tweet (i.e. this tweet is not original but retweeteed some other tweet)\n",
    "    * All data fields of a tweet except `retweeted_status`\n",
    "* `entities`: A JSON object for all entities in this tweet\n",
    "    * `hashtags`: An array for all the hashtags that are mentioned in this tweet\n",
    "    * `urls`: An array for all the URLs that are mentioned in this tweet\n",
    "\n",
    "\n",
    "## Data source\n",
    "\n",
    "All tweets are collected using the [Twitter Streaming API](https://dev.twitter.com/streaming/overview).\n",
    "\n",
    "\n",
    "## Users partition\n",
    "\n",
    "Besides the original tweets, we will provide you with a Pickle file, which contains a partition over 452,743 Twitter users. It contains a Python dictionary `{user_id: partition_id}`. The users are partitioned into 7 groups."
   ]
  },
  {
   "cell_type": "markdown",
   "metadata": {
    "deletable": false,
    "editable": false,
    "nbgrader": {
     "cell_type": "markdown",
     "checksum": "0b630770fbeb2dda028d841dbbb9caf9",
     "grade": false,
     "grade_id": "cell-04456892b64b4e22",
     "locked": true,
     "schema_version": 3,
     "solution": false,
     "task": false
    }
   },
   "source": [
    "## Grading\n",
    "\n",
    "We ask you use the `OutputLogger` object `my_output` to store the\n",
    "results of your program.\n",
    "We have provided function calls to `my_output.append()` method for\n",
    "storing the results in all necessary places.\n",
    "Please make sure NOT to remove these lines\n",
    "\n",
    "In the last cell of this file, we write the content of `my_output`\n",
    "to a pickle file which the grader will read in and use for grading."
   ]
  },
  {
   "cell_type": "code",
   "execution_count": 1,
   "metadata": {
    "deletable": false,
    "editable": false,
    "nbgrader": {
     "cell_type": "code",
     "checksum": "dd39fd42f9bb1ca8f218b3ef6fbd0ac6",
     "grade": false,
     "grade_id": "cell-91e62cf152f9cc1e",
     "locked": true,
     "schema_version": 3,
     "solution": false,
     "task": false
    }
   },
   "outputs": [],
   "source": [
    "import os\n",
    "import pickle\n",
    "\n",
    "\n",
    "class OutputLogger:\n",
    "    def __init__(self):\n",
    "        self.ans = {}\n",
    "\n",
    "    def append(self, key, value):\n",
    "        self.ans[key] = value\n",
    "\n",
    "    def write_to_disk(self):\n",
    "        filepath = os.path.expanduser('answer.pickle')\n",
    "        with open(filepath, 'wb') as f:\n",
    "            pickle.dump(self.ans, f)\n",
    "\n",
    "\n",
    "my_output = OutputLogger()"
   ]
  },
  {
   "cell_type": "code",
   "execution_count": 2,
   "metadata": {
    "deletable": false,
    "editable": false,
    "nbgrader": {
     "cell_type": "code",
     "checksum": "101108d3287e387d0fcfebce5fbfa197",
     "grade": false,
     "grade_id": "cell-a58eaabff93f73e0",
     "locked": true,
     "schema_version": 3,
     "solution": false,
     "task": false
    }
   },
   "outputs": [],
   "source": [
    "\"\"\"\n",
    "Variables used in the grading process. DO NOT OVERWRITE THEM.\n",
    "\"\"\"\n",
    "\n",
    "_is_in_develop = True"
   ]
  },
  {
   "cell_type": "markdown",
   "metadata": {
    "deletable": false,
    "editable": false,
    "nbgrader": {
     "cell_type": "markdown",
     "checksum": "2cc041786dfdc5321dd02512f3733be5",
     "grade": false,
     "grade_id": "cell-7c16adea0a14b7ae",
     "locked": true,
     "schema_version": 3,
     "solution": false,
     "task": false
    }
   },
   "source": [
    "## Debuging\n",
    "\n",
    "Use `save_time(key)` at different parts of your code for checking the amount of time a segment takes."
   ]
  },
  {
   "cell_type": "code",
   "execution_count": 3,
   "metadata": {
    "deletable": false,
    "editable": false,
    "nbgrader": {
     "cell_type": "code",
     "checksum": "38ac154631f778f763e3b94d35658f7e",
     "grade": false,
     "grade_id": "cell-b1c3c0869d88c97b",
     "locked": true,
     "schema_version": 3,
     "solution": false,
     "task": false
    }
   },
   "outputs": [],
   "source": [
    "from time import time\n",
    "import datetime\n",
    "\n",
    "timer = {}\n",
    "def save_time(key):\n",
    "    '''\n",
    "    Calling save_time with 'key' the first time will record the current time for 'key'.\n",
    "    Calling save_time with 'key' the second time will record the time (hours:minutes:seconds) \n",
    "    it takes from the first calling to the second calling. All results will be saved\n",
    "    in timer dict.\n",
    "    Calling save_time with 'key' the third time will overwrite existing data.\n",
    "    \n",
    "    Args:\n",
    "        key: an identifier for this time.\n",
    "    '''\n",
    "    \n",
    "    if key in timer: \n",
    "        if type(timer[key]) == str:\n",
    "            timer[key] = time()\n",
    "        else:\n",
    "            timer[key] = str(datetime.timedelta(seconds=round(time() - timer[key])))\n",
    "    else:\n",
    "        timer[key] = time()\n",
    "                \n",
    "save_time('total time')"
   ]
  },
  {
   "cell_type": "markdown",
   "metadata": {
    "deletable": false,
    "editable": false,
    "nbgrader": {
     "cell_type": "markdown",
     "checksum": "fbff9090708b10b3aa6de3fe22a16c25",
     "grade": false,
     "grade_id": "cell-07b293ccae8c763f",
     "locked": true,
     "schema_version": 3,
     "solution": false,
     "task": false
    }
   },
   "source": [
    "You can change `_version` to be `'10mb'`, `'1gb'` or `'10gb'`, so that you can run your implementation on different datasets."
   ]
  },
  {
   "cell_type": "code",
   "execution_count": 4,
   "metadata": {},
   "outputs": [],
   "source": [
    "_version = '10mb'"
   ]
  },
  {
   "cell_type": "code",
   "execution_count": 5,
   "metadata": {
    "deletable": false,
    "editable": false,
    "nbgrader": {
     "cell_type": "code",
     "checksum": "25ded9bcfc1be528dc2cce824c8e5172",
     "grade": false,
     "grade_id": "cell-b564b33a149ca77d",
     "locked": true,
     "schema_version": 3,
     "solution": false,
     "task": false
    }
   },
   "outputs": [],
   "source": [
    "if _is_in_develop:\n",
    "    with open(f'/datasets/cs255-sp22-a00-public/public/{_version}-answer.pickle', 'rb') as file:\n",
    "        template = pickle.load(file)"
   ]
  },
  {
   "cell_type": "markdown",
   "metadata": {
    "deletable": false,
    "editable": false,
    "nbgrader": {
     "cell_type": "markdown",
     "checksum": "7c9daba97a49cd033c885d8a558b2803",
     "grade": false,
     "grade_id": "cell-8367a7177b3b8a24",
     "locked": true,
     "schema_version": 3,
     "solution": false,
     "task": false
    }
   },
   "source": [
    "# Part 0: Load data to a RDD"
   ]
  },
  {
   "cell_type": "code",
   "execution_count": 6,
   "metadata": {
    "deletable": false,
    "editable": false,
    "nbgrader": {
     "cell_type": "code",
     "checksum": "bccf80d1453c4a1b851ea4474ad5a3b3",
     "grade": false,
     "grade_id": "cell-4b222549daef473e",
     "locked": true,
     "schema_version": 3,
     "solution": false,
     "task": false
    }
   },
   "outputs": [],
   "source": [
    "from pyspark import SparkContext, SparkConf\n",
    "from pyspark.rdd import RDD\n",
    "\n",
    "def set_spark_config(leader_name=None, app_name=\"cse255 spark\"):\n",
    "    import os\n",
    "    from pyspark import SparkContext, SparkConf\n",
    "\n",
    "    def get_local_ip():\n",
    "        import socket\n",
    "        s = socket.socket(socket.AF_INET, socket.SOCK_DGRAM)\n",
    "        s.connect((\"8.8.8.8\", 80))\n",
    "        ip = s.getsockname()[0]\n",
    "        s.close()\n",
    "        return ip\n",
    "\n",
    "    if leader_name is not None:\n",
    "        # Connect to the treasurer's spark clusters\n",
    "        os.environ['SPARK_LOCAL_IP'] = \"\" #driver_host\n",
    "        driver_host = get_local_ip()\n",
    "\n",
    "        conf = SparkConf()\n",
    "        conf.setMaster(f'spark://spark-master.{leader_name}.svc.cluster.local:7077')\n",
    "        conf.set(\"spark.blockmanager.port\", \"50002\")\n",
    "        conf.set(\"spark.driver.bindAddress\", driver_host)\n",
    "        conf.set(\"spark.driver.host\", driver_host)\n",
    "        conf.set(\"spark.driver.port\", \"50500\")\n",
    "        conf.set('spark.authenticate', False)\n",
    "    else:\n",
    "        conf = SparkConf()\n",
    "        \n",
    "#     conf.set(\"spark.cores.max\", 4)\n",
    "    conf.set(\"spark.executor.memory\", \"20g\")\n",
    "    conf.setAppName(app_name)\n",
    "    sc = SparkContext(conf=conf)\n",
    "\n",
    "    return sc"
   ]
  },
  {
   "cell_type": "code",
   "execution_count": 7,
   "metadata": {
    "deletable": false,
    "editable": false,
    "nbgrader": {
     "cell_type": "code",
     "checksum": "b4b2899143fa154114f8e98ae9a8ac35",
     "grade": false,
     "grade_id": "cell-3f1a2a3a11884244",
     "locked": true,
     "schema_version": 3,
     "solution": false,
     "task": false
    },
    "scrolled": true
   },
   "outputs": [],
   "source": [
    "save_time(\"set up sc\")\n",
    "\n",
    "# Use local clusters (None) while developing in the notebook \n",
    "sc = set_spark_config(leader_name=None)\n",
    "\n",
    "# Test whether cluster resources are available\n",
    "sc.parallelize(['Test', 'resources']).collect()\n",
    "\n",
    "save_time(\"set up sc\")"
   ]
  },
  {
   "cell_type": "markdown",
   "metadata": {
    "deletable": false,
    "editable": false,
    "nbgrader": {
     "cell_type": "markdown",
     "checksum": "deb98f72f14920af7239cc96fcb08e57",
     "grade": false,
     "grade_id": "cell-419532d10771237c",
     "locked": true,
     "schema_version": 3,
     "solution": false,
     "task": false
    }
   },
   "source": [
    "Now let's see how many lines there are in the input file.\n",
    "\n",
    "1. Make RDD from the data in the file given by the file path.\n",
    "2. Mark the RDD to be cached (so in next operation data will be loaded in memory) \n",
    "3. Count the number of elements in the RDD and store the result in `num_tweets`.\n",
    "\n",
    "**Hint:** use [`sc.textFile()`](https://spark.apache.org/docs/latest/api/python/reference/api/pyspark.SparkContext.textFile.html) to read the text file into an RDD. \n",
    "\n",
    "See the visible test below for the expected format and value of `num_tweets`."
   ]
  },
  {
   "cell_type": "code",
   "execution_count": 8,
   "metadata": {},
   "outputs": [],
   "source": [
    "save_time(\"read data\")\n",
    "\n",
    "file_path = f'file:///datasets/cs255-sp22-a00-public/public/hw2-files-{_version}.txt'\n",
    "\n",
    "# YOUR CODE HERE\n",
    "file = sc.textFile(file_path).cache()\n",
    "num_tweets = file.count()\n",
    "# YOUR CODE ENDS\n",
    "\n",
    "my_output.append(\"num_tweets\", num_tweets)\n",
    "save_time(\"read data\")"
   ]
  },
  {
   "cell_type": "code",
   "execution_count": 9,
   "metadata": {
    "deletable": false,
    "editable": false,
    "nbgrader": {
     "cell_type": "code",
     "checksum": "a0ca9a78a8f3be993f4b1857cbe8cf63",
     "grade": false,
     "grade_id": "num_tweets",
     "locked": true,
     "schema_version": 3,
     "solution": false,
     "task": false
    }
   },
   "outputs": [],
   "source": [
    "if _is_in_develop:\n",
    "    assert num_tweets == template['num_tweets'], \"Your answer is not correct\""
   ]
  },
  {
   "cell_type": "markdown",
   "metadata": {
    "deletable": false,
    "editable": false,
    "nbgrader": {
     "cell_type": "markdown",
     "checksum": "e3b7e6de47ed946d78ae3495b57b3c19",
     "grade": false,
     "grade_id": "cell-5d68a53b2aea9bab",
     "locked": true,
     "schema_version": 3,
     "solution": false,
     "task": false
    }
   },
   "source": [
    "# Part 1: Parse JSON strings to JSON objects"
   ]
  },
  {
   "cell_type": "markdown",
   "metadata": {
    "deletable": false,
    "editable": false,
    "nbgrader": {
     "cell_type": "markdown",
     "checksum": "aa21f05d3b50f83dd895c68729ab0b3d",
     "grade": false,
     "grade_id": "cell-adc1b25cae119e0a",
     "locked": true,
     "schema_version": 3,
     "solution": false,
     "task": false
    }
   },
   "source": [
    "Python has built-in support for JSON."
   ]
  },
  {
   "cell_type": "code",
   "execution_count": 10,
   "metadata": {
    "deletable": false,
    "editable": false,
    "nbgrader": {
     "cell_type": "code",
     "checksum": "36da2d206f79e51714fafa648a997558",
     "grade": false,
     "grade_id": "cell-bcd2784eb5fc3334",
     "locked": true,
     "schema_version": 3,
     "solution": false,
     "task": false
    }
   },
   "outputs": [
    {
     "data": {
      "text/plain": [
       "{'id': 1, 'name': 'A green door', 'price': 12.5, 'tags': ['home', 'green']}"
      ]
     },
     "execution_count": 10,
     "metadata": {},
     "output_type": "execute_result"
    }
   ],
   "source": [
    "import json\n",
    "\n",
    "json_example = '''\n",
    "{\n",
    "    \"id\": 1,\n",
    "    \"name\": \"A green door\",\n",
    "    \"price\": 12.50,\n",
    "    \"tags\": [\"home\", \"green\"]\n",
    "}\n",
    "'''\n",
    "\n",
    "json_obj = json.loads(json_example)\n",
    "json_obj"
   ]
  },
  {
   "cell_type": "markdown",
   "metadata": {
    "deletable": false,
    "editable": false,
    "nbgrader": {
     "cell_type": "markdown",
     "checksum": "9d6d5175da9bb80309b0e9a7ba3fae46",
     "grade": false,
     "grade_id": "cell-d4a5bdbaffa5e28b",
     "locked": true,
     "schema_version": 3,
     "solution": false,
     "task": false
    }
   },
   "source": [
    "## Broken tweets and irrelevant messages\n",
    "\n",
    "The data of this assignment may contain broken tweets (invalid JSON strings). So make sure that your code is robust for such cases.\n",
    "\n",
    "You can filter out such broken tweet by checking if:\n",
    "* the line is not in json format\n",
    "\n",
    "In addition, some lines in the input file might not be tweets, but messages that the Twitter server sent to the developer (such as limit notices). Your program should also ignore these messages.\n",
    "\n",
    "These messages would not contain the `created_at` field and can be filtered out accordingly.\n",
    "* Check if json object of the broken tweet has a `created_at` field\n",
    "\n",
    "**Hint:** [Catch the ValueError](http://stackoverflow.com/questions/11294535/verify-if-a-string-is-json-in-python)\n",
    "\n",
    "**********************************************************************************\n",
    "\n",
    "**Tasks**\n",
    "\n",
    "1. Parse raw JSON tweets stored in the RDD you created above to obtain **valid** JSON objects. \n",
    "1. From all valid tweets, construct a pair RDD of `(user_id, text)`, where `user_id` is the `id_str` data field of the `user` dictionary (read [Tweets](#Tweets) section above), `text` is the `text` data field."
   ]
  },
  {
   "cell_type": "code",
   "execution_count": 11,
   "metadata": {},
   "outputs": [],
   "source": [
    "import json\n",
    "\n",
    "def safe_parse(raw_json):\n",
    "    \"\"\"\n",
    "    Input is a String\n",
    "    Output is a JSON object if the tweet is valid and None if not valid\n",
    "    \"\"\"\n",
    "\n",
    "    # YOUR CODE HERE\n",
    "    try:\n",
    "        json_obj = json.loads(raw_json) # Not broken\n",
    "        json_obj[\"created_at\"] # Not a message\n",
    "        return json_obj\n",
    "    except:\n",
    "        return None\n",
    "    # YOUR CODE ENDS\n",
    "    \n",
    "# Remember to construct an RDD of (user_id, text) here.\n",
    "save_time(\"safe parse rdd\")\n",
    "\n",
    "# YOUR CODE HERE\n",
    "file = file.filter(lambda x: safe_parse(x))\n",
    "file = file.map(lambda x: json.loads(x))\n",
    "file_user_text = file.map(lambda x: (x[\"user\"][\"id\"], x[\"text\"])).cache()\n",
    "# YOUR CODE ENDS\n",
    "\n",
    "save_time(\"safe parse rdd\")"
   ]
  },
  {
   "cell_type": "markdown",
   "metadata": {
    "deletable": false,
    "editable": false,
    "nbgrader": {
     "cell_type": "markdown",
     "checksum": "f2711d5e576334fa2a0829278a1e9855",
     "grade": false,
     "grade_id": "cell-0d42adc9db0bcea7",
     "locked": true,
     "schema_version": 3,
     "solution": false,
     "task": false
    }
   },
   "source": [
    "## Number of unique users\n",
    "\n",
    "Count the number of different users in all valid tweets and store the result in `num_unique_users`.\n",
    "\n",
    "**Hint:** use the [`distinct()`](https://spark.apache.org/docs/latest/api/python/reference/api/pyspark.RDD.distinct.html) method.\n",
    "\n",
    "See the visible test below for the expected format and value of `num_unique_users`."
   ]
  },
  {
   "cell_type": "code",
   "execution_count": 12,
   "metadata": {},
   "outputs": [],
   "source": [
    "save_time(\"count unique users\")\n",
    "\n",
    "# YOUR CODE HERE\n",
    "file_user = file_user_text.map(lambda x: x[0]).distinct()\n",
    "num_unique_users = file_user.count()\n",
    "# YOUR CODE ENDS\n",
    "\n",
    "my_output.append(\"num_unique_users\", num_unique_users)\n",
    "save_time(\"count unique users\")"
   ]
  },
  {
   "cell_type": "code",
   "execution_count": 13,
   "metadata": {
    "deletable": false,
    "editable": false,
    "nbgrader": {
     "cell_type": "code",
     "checksum": "62583cb42f78fbf2f972d84afa7d3fc2",
     "grade": false,
     "grade_id": "num_unique_users",
     "locked": true,
     "schema_version": 3,
     "solution": false,
     "task": false
    }
   },
   "outputs": [],
   "source": [
    "if _is_in_develop:\n",
    "    assert num_unique_users == template['num_unique_users'], \"Your answer is not correct\""
   ]
  },
  {
   "cell_type": "markdown",
   "metadata": {
    "deletable": false,
    "editable": false,
    "nbgrader": {
     "cell_type": "markdown",
     "checksum": "40bc9a2e706757cc3e504e4117ad3dd4",
     "grade": false,
     "grade_id": "cell-d4daa8ae8a7d432f",
     "locked": true,
     "schema_version": 3,
     "solution": false,
     "task": false
    }
   },
   "source": [
    "# Part 2: Number of posts from each user partition"
   ]
  },
  {
   "cell_type": "markdown",
   "metadata": {
    "deletable": false,
    "editable": false,
    "nbgrader": {
     "cell_type": "markdown",
     "checksum": "df6739ed3c0501ce68510746571305a7",
     "grade": false,
     "grade_id": "cell-3108d24991351aac",
     "locked": true,
     "schema_version": 3,
     "solution": false,
     "task": false
    }
   },
   "source": [
    "Load the Pickle file `users-partition.pickle`, you will get a dictionary which represents a partition over 452,743 Twitter users, `{user_id: partition_id}`. The users are partitioned into 7 groups. For example, if the dictionary is loaded into a variable named `partition`, the partition ID of the user `59458445` is `partition[\"59458445\"]`. These users are partitioned into 7 groups. The partition ID is an integer between 0-6.\n",
    "\n",
    "Note that the user partition we provide doesn't cover all users appear in the input data."
   ]
  },
  {
   "cell_type": "code",
   "execution_count": 14,
   "metadata": {
    "deletable": false,
    "editable": false,
    "nbgrader": {
     "cell_type": "code",
     "checksum": "bc44b4c45e12b9283a47573dffbb2d83",
     "grade": false,
     "grade_id": "cell-2dfb9ca4c5d82ccc",
     "locked": true,
     "schema_version": 3,
     "solution": false,
     "task": false
    }
   },
   "outputs": [
    {
     "data": {
      "text/plain": [
       "452743"
      ]
     },
     "execution_count": 14,
     "metadata": {},
     "output_type": "execute_result"
    }
   ],
   "source": [
    "import subprocess\n",
    "import pickle\n",
    "\n",
    "proc = subprocess.Popen([\"cat\", \"./users-partition.pickle\"], stdout=subprocess.PIPE)\n",
    "pickle_content = proc.communicate()[0]\n",
    "\n",
    "partition = pickle.loads(pickle_content)\n",
    "len(partition)"
   ]
  },
  {
   "cell_type": "markdown",
   "metadata": {
    "deletable": false,
    "editable": false,
    "nbgrader": {
     "cell_type": "markdown",
     "checksum": "b62a95dd991960d9060d8742c25447a4",
     "grade": false,
     "grade_id": "cell-f5c0418837987df9",
     "locked": true,
     "schema_version": 3,
     "solution": false,
     "task": false
    }
   },
   "source": [
    "## Tweets per user partition\n",
    "\n",
    "1. Count the number of posts from group 0, 1, ..., 6, plus the number of posts from users who are not in any partition. Assign users who are not in any partition to the group 7.\n",
    "1. Put the results of this step into a pair RDD `(group_id, count)` that is sorted by key.\n",
    "1. Collect the RDD to get `counts_per_part` list.\n",
    "\n",
    "See the visible test below for the expected format and value of `counts_per_part`."
   ]
  },
  {
   "cell_type": "code",
   "execution_count": 15,
   "metadata": {},
   "outputs": [],
   "source": [
    "save_time(\"count tweets per user partition\")\n",
    "\n",
    "# YOUR CODE HERE\n",
    "group_num = file_user_text.map(lambda x: (x[0], x[1], (partition.get(str(x[0]), 7)))).cache()\n",
    "groups = group_num.map(lambda x: (x[2],1))\n",
    "from operator import add\n",
    "counts_per_part = groups.reduceByKey(add).sortByKey(ascending = True).collect()  \n",
    "# YOUR CODE ENDS\n",
    "\n",
    "my_output.append(\"counts_per_part\", counts_per_part)\n",
    "save_time(\"count tweets per user partition\")"
   ]
  },
  {
   "cell_type": "code",
   "execution_count": 16,
   "metadata": {
    "deletable": false,
    "editable": false,
    "nbgrader": {
     "cell_type": "code",
     "checksum": "264fd4f223d6531fa27293c33c005a01",
     "grade": false,
     "grade_id": "counts_per_part",
     "locked": true,
     "schema_version": 3,
     "solution": false,
     "task": false
    }
   },
   "outputs": [],
   "source": [
    "if _is_in_develop:\n",
    "    assert counts_per_part == template['counts_per_part'], \"Your answer is not correct\""
   ]
  },
  {
   "cell_type": "markdown",
   "metadata": {
    "collapsed": true,
    "deletable": false,
    "editable": false,
    "nbgrader": {
     "cell_type": "markdown",
     "checksum": "c8539b1c8f7aa6672a8663fe966abd94",
     "grade": false,
     "grade_id": "cell-48b538260509b688",
     "locked": true,
     "schema_version": 3,
     "solution": false,
     "task": false
    }
   },
   "source": [
    "# Part 3:  Tokens that are relatively popular in each user partition"
   ]
  },
  {
   "cell_type": "markdown",
   "metadata": {
    "collapsed": true,
    "deletable": false,
    "editable": false,
    "nbgrader": {
     "cell_type": "markdown",
     "checksum": "b53e7123ec26e24264b6d28c3c20d083",
     "grade": false,
     "grade_id": "cell-b12f2c7f1bc89473",
     "locked": true,
     "schema_version": 3,
     "solution": false,
     "task": false
    }
   },
   "source": [
    "In this step, we are going to find tokens that are relatively popular in each user partition.\n",
    "\n",
    "We define the number of mentions of a token $t$ in a specific user partition $k$ as the number of users from the user partition $k$ that ever mentioned the token $t$ in their tweets. Note that even if some users might mention a token $t$ multiple times or in multiple tweets, a user will contribute at most 1 to the counter of the token $t$.\n",
    "\n",
    "Please make sure that the number of mentions of a token is equal to the number of users who mentioned this token but NOT the number of tweets that mentioned this token.\n",
    "\n",
    "Let $N_t^k$ be the number of mentions of the token $t$ in the user partition $k$. Let $N_t^{all} = \\sum_{i=0}^7 N_t^{i}$ be the number of total mentions of the token $t$.\n",
    "\n",
    "We define the relative popularity of a token $t$ in a user partition $k$ as the log ratio between $N_t^k$ and $N_t^{all}$, i.e. \n",
    "\n",
    "\\begin{equation}\n",
    "p_t^k = \\log \\frac{N_t^k}{N_t^{all}}.\n",
    "\\end{equation}\n",
    "\n",
    "\n",
    "You can compute the relative popularity by calling the function `get_rel_popularity`."
   ]
  },
  {
   "cell_type": "markdown",
   "metadata": {
    "deletable": false,
    "editable": false,
    "nbgrader": {
     "cell_type": "markdown",
     "checksum": "98cf6dacaf21d08fc5719c9ca24e5cc0",
     "grade": false,
     "grade_id": "cell-282970da6752ded4",
     "locked": true,
     "schema_version": 3,
     "solution": false,
     "task": false
    }
   },
   "source": [
    "We load a tweet tokenizer for you in the following cells. This Tokenizer object is called `tok`. Don't forget to execute the two cells below."
   ]
  },
  {
   "cell_type": "code",
   "execution_count": 17,
   "metadata": {
    "deletable": false,
    "editable": false,
    "nbgrader": {
     "cell_type": "code",
     "checksum": "5c89aa89723c11a7bcd6a3c05252a1c2",
     "grade": false,
     "grade_id": "cell-cafbc0f730707701",
     "locked": true,
     "schema_version": 3,
     "solution": false,
     "task": false
    }
   },
   "outputs": [],
   "source": [
    "#!/usr/bin/env python\n",
    "\n",
    "\"\"\"\n",
    "This code implements a basic, Twitter-aware tokenizer.\n",
    "\n",
    "A tokenizer is a function that splits a string of text into words. In\n",
    "Python terms, we map string and unicode objects into lists of unicode\n",
    "objects.\n",
    "\n",
    "There is not a single right way to do tokenizing. The best method\n",
    "depends on the application.  This tokenizer is designed to be flexible\n",
    "and this easy to adapt to new domains and tasks.  The basic logic is\n",
    "this:\n",
    "\n",
    "1. The tuple regex_strings defines a list of regular expression\n",
    "   strings.\n",
    "\n",
    "2. The regex_strings strings are put, in order, into a compiled\n",
    "   regular expression object called word_re.\n",
    "\n",
    "3. The tokenization is done by word_re.findall(s), where s is the\n",
    "   user-supplied string, inside the tokenize() method of the class\n",
    "   Tokenizer.\n",
    "\n",
    "4. When instantiating Tokenizer objects, there is a single option:\n",
    "   preserve_case.  By default, it is set to True. If it is set to\n",
    "   False, then the tokenizer will downcase everything except for\n",
    "   emoticons.\n",
    "\n",
    "The __main__ method illustrates by tokenizing a few examples.\n",
    "\n",
    "I've also included a Tokenizer method tokenize_random_tweet(). If the\n",
    "twitter library is installed (http://code.google.com/p/python-twitter/)\n",
    "and Twitter is cooperating, then it should tokenize a random\n",
    "English-language tweet.\n",
    "\n",
    "\n",
    "Julaiti Alafate:\n",
    "  I modified the regex strings to extract URLs in tweets.\n",
    "\"\"\"\n",
    "\n",
    "__author__ = \"Christopher Potts\"\n",
    "__copyright__ = \"Copyright 2011, Christopher Potts\"\n",
    "__credits__ = []\n",
    "__license__ = \"Creative Commons Attribution-NonCommercial-ShareAlike 3.0 Unported License: http://creativecommons.org/licenses/by-nc-sa/3.0/\"\n",
    "__version__ = \"1.0\"\n",
    "__maintainer__ = \"Christopher Potts\"\n",
    "__email__ = \"See the author's website\"\n",
    "\n",
    "######################################################################\n",
    "\n",
    "import re\n",
    "from html import entities \n",
    "\n",
    "######################################################################\n",
    "# The following strings are components in the regular expression\n",
    "# that is used for tokenizing. It's important that phone_number\n",
    "# appears first in the final regex (since it can contain whitespace).\n",
    "# It also could matter that tags comes after emoticons, due to the\n",
    "# possibility of having text like\n",
    "#\n",
    "#     <:| and some text >:)\n",
    "#\n",
    "# Most imporatantly, the final element should always be last, since it\n",
    "# does a last ditch whitespace-based tokenization of whatever is left.\n",
    "\n",
    "# This particular element is used in a couple ways, so we define it\n",
    "# with a name:\n",
    "emoticon_string = r\"\"\"\n",
    "    (?:\n",
    "      [<>]?\n",
    "      [:;=8]                     # eyes\n",
    "      [\\-o\\*\\']?                 # optional nose\n",
    "      [\\)\\]\\(\\[dDpP/\\:\\}\\{@\\|\\\\] # mouth      \n",
    "      |\n",
    "      [\\)\\]\\(\\[dDpP/\\:\\}\\{@\\|\\\\] # mouth\n",
    "      [\\-o\\*\\']?                 # optional nose\n",
    "      [:;=8]                     # eyes\n",
    "      [<>]?\n",
    "    )\"\"\"\n",
    "\n",
    "# The components of the tokenizer:\n",
    "regex_strings = (\n",
    "    # Phone numbers:\n",
    "    r\"\"\"\n",
    "    (?:\n",
    "      (?:            # (international)\n",
    "        \\+?[01]\n",
    "        [\\-\\s.]*\n",
    "      )?            \n",
    "      (?:            # (area code)\n",
    "        [\\(]?\n",
    "        \\d{3}\n",
    "        [\\-\\s.\\)]*\n",
    "      )?    \n",
    "      \\d{3}          # exchange\n",
    "      [\\-\\s.]*   \n",
    "      \\d{4}          # base\n",
    "    )\"\"\"\n",
    "    ,\n",
    "    # URLs:\n",
    "    r\"\"\"http[s]?://(?:[a-zA-Z]|[0-9]|[$-_@.&+]|[!*\\(\\),]|(?:%[0-9a-fA-F][0-9a-fA-F]))+\"\"\"\n",
    "    ,\n",
    "    # Emoticons:\n",
    "    emoticon_string\n",
    "    ,    \n",
    "    # HTML tags:\n",
    "     r\"\"\"<[^>]+>\"\"\"\n",
    "    ,\n",
    "    # Twitter username:\n",
    "    r\"\"\"(?:@[\\w_]+)\"\"\"\n",
    "    ,\n",
    "    # Twitter hashtags:\n",
    "    r\"\"\"(?:\\#+[\\w_]+[\\w\\'_\\-]*[\\w_]+)\"\"\"\n",
    "    ,\n",
    "    # Remaining word types:\n",
    "    r\"\"\"\n",
    "    (?:[a-z][a-z'\\-_]+[a-z])       # Words with apostrophes or dashes.\n",
    "    |\n",
    "    (?:[+\\-]?\\d+[,/.:-]\\d+[+\\-]?)  # Numbers, including fractions, decimals.\n",
    "    |\n",
    "    (?:[\\w_]+)                     # Words without apostrophes or dashes.\n",
    "    |\n",
    "    (?:\\.(?:\\s*\\.){1,})            # Ellipsis dots. \n",
    "    |\n",
    "    (?:\\S)                         # Everything else that isn't whitespace.\n",
    "    \"\"\"\n",
    "    )\n",
    "\n",
    "######################################################################\n",
    "# This is the core tokenizing regex:\n",
    "    \n",
    "word_re = re.compile(r\"\"\"(%s)\"\"\" % \"|\".join(regex_strings), re.VERBOSE | re.I | re.UNICODE)\n",
    "\n",
    "# The emoticon string gets its own regex so that we can preserve case for them as needed:\n",
    "emoticon_re = re.compile(regex_strings[1], re.VERBOSE | re.I | re.UNICODE)\n",
    "\n",
    "# These are for regularizing HTML entities to Unicode:\n",
    "html_entity_digit_re = re.compile(r\"&#\\d+;\")\n",
    "html_entity_alpha_re = re.compile(r\"&\\w+;\")\n",
    "amp = \"&amp;\"\n",
    "\n",
    "######################################################################\n",
    "\n",
    "class Tokenizer:\n",
    "    def __init__(self, preserve_case=False):\n",
    "        self.preserve_case = preserve_case\n",
    "\n",
    "    def tokenize(self, s):\n",
    "        \"\"\"\n",
    "        Argument: s -- any string or unicode object\n",
    "        Value: a tokenize list of strings; conatenating this list returns the original string if preserve_case=False\n",
    "        \"\"\"        \n",
    "        # Try to ensure unicode:\n",
    "        try:\n",
    "            s = str(s)\n",
    "        except UnicodeDecodeError:\n",
    "            s = s.encode('string_escape')\n",
    "            s = str(s)\n",
    "        # Fix HTML character entitites:\n",
    "        s = self.__html2unicode(s)\n",
    "        # Tokenize:\n",
    "        words = word_re.findall(s)\n",
    "        # Possible alter the case, but avoid changing emoticons like :D into :d:\n",
    "        if not self.preserve_case:            \n",
    "            words = list(map((lambda x : x if emoticon_re.search(x) else x.lower()), words))\n",
    "        return words\n",
    "\n",
    "    def tokenize_random_tweet(self):\n",
    "        \"\"\"\n",
    "        If the twitter library is installed and a twitter connection\n",
    "        can be established, then tokenize a random tweet.\n",
    "        \"\"\"\n",
    "        try:\n",
    "            import twitter\n",
    "        except ImportError:\n",
    "            print(\"Apologies. The random tweet functionality requires the Python twitter library: http://code.google.com/p/python-twitter/\")\n",
    "        from random import shuffle\n",
    "        api = twitter.Api()\n",
    "        tweets = api.GetPublicTimeline()\n",
    "        if tweets:\n",
    "            for tweet in tweets:\n",
    "                if tweet.user.lang == 'en':            \n",
    "                    return self.tokenize(tweet.text)\n",
    "        else:\n",
    "            raise Exception(\"Apologies. I couldn't get Twitter to give me a public English-language tweet. Perhaps try again\")\n",
    "\n",
    "    def __html2unicode(self, s):\n",
    "        \"\"\"\n",
    "        Internal metod that seeks to replace all the HTML entities in\n",
    "        s with their corresponding unicode characters.\n",
    "        \"\"\"\n",
    "        # First the digits:\n",
    "        ents = set(html_entity_digit_re.findall(s))\n",
    "        if len(ents) > 0:\n",
    "            for ent in ents:\n",
    "                entnum = ent[2:-1]\n",
    "                try:\n",
    "                    entnum = int(entnum)\n",
    "                    s = s.replace(ent, unichr(entnum))\t\n",
    "                except:\n",
    "                    pass\n",
    "        # Now the alpha versions:\n",
    "        ents = set(html_entity_alpha_re.findall(s))\n",
    "        ents = filter((lambda x : x != amp), ents)\n",
    "        for ent in ents:\n",
    "            entname = ent[1:-1]\n",
    "            try:            \n",
    "                s = s.replace(ent, unichr(entities.name2codepoint[entname]))\n",
    "            except:\n",
    "                pass                    \n",
    "            s = s.replace(amp, \" and \")\n",
    "        return s"
   ]
  },
  {
   "cell_type": "code",
   "execution_count": 18,
   "metadata": {
    "deletable": false,
    "editable": false,
    "nbgrader": {
     "cell_type": "code",
     "checksum": "5b54bc6d4a0220497c8e2ec9f6e21aef",
     "grade": false,
     "grade_id": "cell-9cc0f18f3116753b",
     "locked": true,
     "schema_version": 3,
     "solution": false,
     "task": false
    }
   },
   "outputs": [],
   "source": [
    "from math import log\n",
    "\n",
    "tok = Tokenizer(preserve_case=False)\n",
    "\n",
    "def get_rel_popularity(c_k, c_all):\n",
    "    '''\n",
    "    Compute the relative popularity of a token.\n",
    "    \n",
    "    Args:\n",
    "        c_k: the number of mentions in the user partition k.\n",
    "        c_all: the number of all mentions.\n",
    "        \n",
    "    Return:\n",
    "        The relative popularity of the token. It should be a negative number due to the log function. \n",
    "    '''\n",
    "    \n",
    "    return log(1.0 * c_k / c_all) / log(2)"
   ]
  },
  {
   "cell_type": "markdown",
   "metadata": {
    "deletable": false,
    "editable": false,
    "nbgrader": {
     "cell_type": "markdown",
     "checksum": "ae93e1c8453e0364dc8669c2d00ac8da",
     "grade": false,
     "grade_id": "cell-a81dc875927c4da4",
     "locked": true,
     "schema_version": 3,
     "solution": false,
     "task": false
    }
   },
   "source": [
    "## Tokenize tweets\n",
    "\n",
    "1. Tokenize the tweets using the `tokenize` function that is a method of the `Tokenizer` class that we have instantiated as `tok`. \n",
    "1. Count the number of mentions for each tokens regardless of specific user group and store them in a RDD, which will be used later.\n",
    "1. Get `num_of_tokens`, which is how many different tokens we have.\n",
    "\n",
    "See the visible test below for the expected format and value of `num_of_tokens`."
   ]
  },
  {
   "cell_type": "code",
   "execution_count": 19,
   "metadata": {},
   "outputs": [],
   "source": [
    "save_time(\"count all unique tokens\")\n",
    "\n",
    "# YOUR CODE HERE\n",
    "file_tokenized_byuser = group_num.map(lambda x: (x[0], x[2], list(tok.tokenize(x[1]))))\n",
    "num_of_tokens = file_tokenized_byuser.flatMap(lambda x: x[2]).distinct().count()\n",
    "\n",
    "file_tokenized_user = file_tokenized_byuser.map(lambda x: ((x[0], x[1]), x[2])).groupByKey().mapValues(list)\n",
    "\n",
    "file_tokenized_user = file_tokenized_user.map(lambda x: (x[0], sum(x[1],[]))).cache()\n",
    "file_tokenized = file_tokenized_user.map(lambda x: set(x[1])).flatMap(lambda x: list(x))\n",
    "\n",
    "file_tokenized = file_tokenized.map(lambda x: (x,1))\n",
    "from operator import add\n",
    "file_tokenized = file_tokenized.reduceByKey(add).sortBy(lambda x: x[1], ascending = False) \n",
    "# YOUR CODE ENDS\n",
    "\n",
    "my_output.append(\"num_of_tokens\", num_of_tokens)\n",
    "save_time(\"count all unique tokens\")"
   ]
  },
  {
   "cell_type": "code",
   "execution_count": 20,
   "metadata": {
    "deletable": false,
    "editable": false,
    "nbgrader": {
     "cell_type": "code",
     "checksum": "d53feda990970aa6110a906c3daff0a6",
     "grade": false,
     "grade_id": "num_of_tokens",
     "locked": true,
     "schema_version": 3,
     "solution": false,
     "task": false
    }
   },
   "outputs": [],
   "source": [
    "if _is_in_develop:\n",
    "    assert num_of_tokens == template['num_of_tokens'], \"Your answer is not correct\""
   ]
  },
  {
   "cell_type": "markdown",
   "metadata": {
    "deletable": false,
    "editable": false,
    "nbgrader": {
     "cell_type": "markdown",
     "checksum": "d5ce0cc9255d1b0b738bd6b6b21bdf3e",
     "grade": false,
     "grade_id": "cell-d4ce557599715827",
     "locked": true,
     "schema_version": 3,
     "solution": false,
     "task": false
    }
   },
   "source": [
    "## Token popularity\n",
    "\n",
    "Tokens that are mentioned by too few users are usually not very interesting, so we want to only keep tokens that are mentioned by at least 100 users. Filter out tokens that don't meet this requirement. Compute the two varaibles below.\n",
    "\n",
    "`num_freq_tokens`: how many different tokens we have after the filtering. \n",
    "\n",
    "`top20`: the top 20 most frequent tokens after the filtering.\n",
    "\n",
    "See the visible tests below for the expected format and value of `num_freq_tokens` and `top20`."
   ]
  },
  {
   "cell_type": "code",
   "execution_count": 21,
   "metadata": {},
   "outputs": [],
   "source": [
    "save_time(\"count overall most popular tokens\")\n",
    "\n",
    "# YOUR CODE HERE\n",
    "file_tokenized_most = file_tokenized.filter(lambda x: x[1]>=100)\n",
    "num_freq_tokens = file_tokenized_most.count()\n",
    "top20 = file_tokenized_most.take(20)\n",
    "# YOUR CODE ENDS\n",
    "\n",
    "my_output.append(\"num_freq_tokens\", num_freq_tokens)\n",
    "my_output.append(\"top20\", top20)\n",
    "save_time(\"count overall most popular tokens\")"
   ]
  },
  {
   "cell_type": "code",
   "execution_count": 22,
   "metadata": {
    "deletable": false,
    "editable": false,
    "nbgrader": {
     "cell_type": "code",
     "checksum": "0f4d30ed1829bf9e7cd00d4acd597e4d",
     "grade": false,
     "grade_id": "num_freq_tokens",
     "locked": true,
     "schema_version": 3,
     "solution": false,
     "task": false
    }
   },
   "outputs": [],
   "source": [
    "if _is_in_develop:\n",
    "    assert num_freq_tokens == template['num_freq_tokens'], \"Your answer is not correct\""
   ]
  },
  {
   "cell_type": "code",
   "execution_count": 23,
   "metadata": {
    "deletable": false,
    "editable": false,
    "nbgrader": {
     "cell_type": "code",
     "checksum": "2921046318ebb9656c21d22c2a30aa8c",
     "grade": false,
     "grade_id": "top20",
     "locked": true,
     "schema_version": 3,
     "solution": false,
     "task": false
    }
   },
   "outputs": [],
   "source": [
    "if _is_in_develop:\n",
    "    assert top20 == template['top20'], \"Your answer is not correct\""
   ]
  },
  {
   "cell_type": "markdown",
   "metadata": {
    "deletable": false,
    "editable": false,
    "nbgrader": {
     "cell_type": "markdown",
     "checksum": "ea0433c3a854c7f25fc058ef209f7545",
     "grade": false,
     "grade_id": "cell-c36a9089c3f4174f",
     "locked": true,
     "schema_version": 3,
     "solution": false,
     "task": false
    }
   },
   "source": [
    "## Relative Popularity\n",
    "\n",
    "For all tokens that are mentioned by at least 100 users, compute their relative popularity in each user group. Then get the top 10 tokens with highest relative popularity in each user group and store the results in the list `popular_10_in_each_group`. In case two tokens have same relative popularity, break the tie by printing the alphabetically smaller one.\n",
    "\n",
    "**Hint:** Let the relative popularity of a token $t$ be $p$. The order of the items will be satisfied by sorting them using (-p, t) as the key.\n",
    "\n",
    "See the visible test below for the expected format and value of `popular_10_in_each_group`."
   ]
  },
  {
   "cell_type": "code",
   "execution_count": 24,
   "metadata": {},
   "outputs": [],
   "source": [
    "save_time(\"print popular tokens in each group\")\n",
    "\n",
    "# YOUR CODE HERE\n",
    "most_freq = file_tokenized_most.map(lambda x: x[0]).collect()\n",
    "def most_freq_word(x):\n",
    "    n = []\n",
    "    for i in x:\n",
    "        if i in most_freq: \n",
    "            n.append(i)\n",
    "    return n         \n",
    "\n",
    "def counting(x):\n",
    "    freq = {}\n",
    "    for i in x: \n",
    "        for item in i:\n",
    "            if (item in freq):\n",
    "                freq[item] += 1\n",
    "            else:\n",
    "                freq[item] = 1\n",
    "    freq = sorted(freq.items(), key=lambda x: x[1], reverse=True)\n",
    "    return(freq)   \n",
    "\n",
    "def calc(x):\n",
    "    c = []\n",
    "    for i in range(0,len(x)):\n",
    "        c_k = x[i][1]\n",
    "        c_all = total_count[x[i][0]]\n",
    "        c.append((x[i][0], get_rel_popularity(c_k, c_all)))\n",
    "        c.sort(key=lambda x:x[1], reverse=True)\n",
    "    c = [(a,-b) for a,b in c]\n",
    "    c = sorted(c, key=lambda x:(x[1], x[0]))\n",
    "    c = [(a,-b) for a,b in c]\n",
    "    return(c[:10])\n",
    "\n",
    "file_token_group = file_tokenized_user.map(lambda x: (x[0][1], list(set(most_freq_word(x[1]))))).groupByKey().mapValues(list).sortBy(lambda x: x[0])\n",
    "\n",
    "file_token_group = file_token_group.map(lambda x: (x[0], counting(x[1])))\n",
    "\n",
    "from operator import add\n",
    "file_token_total = file_token_group.map(lambda x: x[1]).flatMap(lambda x: x).reduceByKey(add)\n",
    "total_count = dict(file_token_total.collect())\n",
    "\n",
    "popular_10_in_each_group = file_token_group.map(lambda x: calc(x[1])).collect()\n",
    "# YOUR CODE ENDS\n",
    "\n",
    "my_output.append(\"popular_10_in_each_group\", popular_10_in_each_group)\n",
    "save_time(\"print popular tokens in each group\")"
   ]
  },
  {
   "cell_type": "code",
   "execution_count": 25,
   "metadata": {
    "deletable": false,
    "editable": false,
    "nbgrader": {
     "cell_type": "code",
     "checksum": "05cfc8c357707572edef4a628fc0ca6a",
     "grade": false,
     "grade_id": "popular_10_in_each_group",
     "locked": true,
     "schema_version": 3,
     "solution": false,
     "task": false
    }
   },
   "outputs": [],
   "source": [
    "if _is_in_develop:\n",
    "    assert popular_10_in_each_group == template['popular_10_in_each_group'], \"Your answer is not correct\""
   ]
  },
  {
   "cell_type": "markdown",
   "metadata": {
    "deletable": false,
    "editable": false,
    "nbgrader": {
     "cell_type": "markdown",
     "checksum": "32761378c35e8fd6d48464f873bed4c6",
     "grade": false,
     "grade_id": "cell-dc1047ae9f5de6e5",
     "locked": true,
     "schema_version": 3,
     "solution": false,
     "task": false
    }
   },
   "source": [
    "## Important: Write your solutions to disk\n",
    "\n",
    "Following cell write your solutions to disk which would be read in by the grader for grading."
   ]
  },
  {
   "cell_type": "code",
   "execution_count": 26,
   "metadata": {
    "deletable": false,
    "editable": false,
    "nbgrader": {
     "cell_type": "code",
     "checksum": "ce465427cacedf9ba333af11eba06ee8",
     "grade": false,
     "grade_id": "cell-54c5c10a6f1d01db",
     "locked": true,
     "schema_version": 3,
     "solution": false,
     "task": false
    }
   },
   "outputs": [],
   "source": [
    "my_output.write_to_disk()"
   ]
  },
  {
   "cell_type": "markdown",
   "metadata": {
    "deletable": false,
    "editable": false,
    "nbgrader": {
     "cell_type": "markdown",
     "checksum": "3c540b919011e9a5e146cb2fe927f4f7",
     "grade": false,
     "grade_id": "cell-4fa66b7ccb01f85d",
     "locked": true,
     "schema_version": 3,
     "solution": false,
     "task": false
    }
   },
   "source": [
    "## Runtime statistics of your implementation"
   ]
  },
  {
   "cell_type": "code",
   "execution_count": 27,
   "metadata": {
    "deletable": false,
    "editable": false,
    "nbgrader": {
     "cell_type": "code",
     "checksum": "23f32960bb44e5fd9e25908a1f810ae0",
     "grade": false,
     "grade_id": "cell-48babd455d814423",
     "locked": true,
     "schema_version": 3,
     "solution": false,
     "task": false
    }
   },
   "outputs": [
    {
     "name": "stdout",
     "output_type": "stream",
     "text": [
      "total time 0:00:15\n",
      "set up sc 0:00:04\n",
      "read data 0:00:02\n",
      "safe parse rdd 0:00:00\n",
      "count unique users 0:00:01\n",
      "count tweets per user partition 0:00:05\n",
      "count all unique tokens 0:00:01\n",
      "count overall most popular tokens 0:00:00\n",
      "print popular tokens in each group 0:00:01\n"
     ]
    }
   ],
   "source": [
    "save_time('total time')\n",
    "\n",
    "for key in timer:\n",
    "    print(key, timer[key])"
   ]
  },
  {
   "cell_type": "markdown",
   "metadata": {
    "deletable": false,
    "editable": false,
    "nbgrader": {
     "cell_type": "markdown",
     "checksum": "1628bab66717c23c020e4e939faa0908",
     "grade": false,
     "grade_id": "cell-35433a93c0c896ec",
     "locked": true,
     "schema_version": 3,
     "solution": false,
     "task": false
    }
   },
   "source": [
    "## Don't forget to convert your notebook to a python script"
   ]
  },
  {
   "cell_type": "code",
   "execution_count": 28,
   "metadata": {
    "deletable": false,
    "editable": false,
    "nbgrader": {
     "cell_type": "code",
     "checksum": "d18934433e62d01033bce9f795347de7",
     "grade": false,
     "grade_id": "cell-fdc4dd8b7d985b0a",
     "locked": true,
     "schema_version": 3,
     "solution": false,
     "task": false
    }
   },
   "outputs": [
    {
     "name": "stdout",
     "output_type": "stream",
     "text": [
      "[NbConvertApp] Converting notebook HW3.ipynb to script\n",
      "[NbConvertApp] Writing 25265 bytes to HW3.py\n"
     ]
    }
   ],
   "source": [
    "if _is_in_develop:\n",
    "    !jupyter nbconvert --to script HW3.ipynb --output HW3"
   ]
  }
 ],
 "metadata": {
  "kernelspec": {
   "display_name": "Python 3",
   "language": "python",
   "name": "python3"
  },
  "language_info": {
   "codemirror_mode": {
    "name": "ipython",
    "version": 3
   },
   "file_extension": ".py",
   "mimetype": "text/x-python",
   "name": "python",
   "nbconvert_exporter": "python",
   "pygments_lexer": "ipython3",
   "version": "3.6.13"
  },
  "toc": {
   "base_numbering": 1,
   "nav_menu": {},
   "number_sections": true,
   "sideBar": true,
   "skip_h1_title": false,
   "title_cell": "Table of Contents",
   "title_sidebar": "Contents",
   "toc_cell": false,
   "toc_position": {},
   "toc_section_display": true,
   "toc_window_display": false
  }
 },
 "nbformat": 4,
 "nbformat_minor": 1
}
